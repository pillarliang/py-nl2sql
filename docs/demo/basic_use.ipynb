{
 "cells": [
  {
   "cell_type": "code",
   "id": "initial_id",
   "metadata": {
    "collapsed": true
   },
   "source": [
    "from py_nl2sql.workflow import NL2SQLWorkflow\n",
    "from py_nl2sql.db_instance import DBInstance\n",
    "from py_nl2sql.models.llm import LLM\n",
    "\n",
    "llm = LLM()\n",
    "instance = DBInstance(\n",
    "    db_type=\"mysql\",\n",
    "    db_name=\"classicmodels\",\n",
    "    need_sql_sample=True,\n",
    "    db_user=\"root\",\n",
    "    db_password=\"\",\n",
    "    db_host=\"127.0.0.1\",\n",
    "    db_port=\"3306\",\n",
    "    llm=llm,\n",
    ")"
   ],
   "outputs": [],
   "execution_count": null
  },
  {
   "metadata": {},
   "cell_type": "code",
   "source": [
    "query = \"give me details of customer and their order count\"\n",
    "service = NL2SQLWorkflow(instance, query, llm)\n",
    "res = service.get_response()\n",
    "print(res)"
   ],
   "id": "349231cfbffe4635",
   "outputs": [],
   "execution_count": null
  },
  {
   "metadata": {},
   "cell_type": "code",
   "source": "print(service.origin_query)",
   "id": "6b4ed8bd9ee27146",
   "outputs": [],
   "execution_count": null
  },
  {
   "metadata": {},
   "cell_type": "code",
   "source": "print(service.text_to_sql_query)",
   "id": "1b8d64a5381d48a6",
   "outputs": [],
   "execution_count": null
  },
  {
   "metadata": {},
   "cell_type": "code",
   "source": "print(service.interpretation_query)",
   "id": "9bd99cb3493712e6",
   "outputs": [],
   "execution_count": null
  },
  {
   "metadata": {},
   "cell_type": "code",
   "source": "print(service.related_table_summary)",
   "id": "9f6473070b571854",
   "outputs": [],
   "execution_count": null
  },
  {
   "cell_type": "code",
   "id": "296cd75714917977",
   "metadata": {},
   "source": "print(service.final_sql_query)",
   "outputs": [],
   "execution_count": null
  },
  {
   "metadata": {},
   "cell_type": "code",
   "source": "print(service.sql_result)",
   "id": "d86227e84a30dac3",
   "outputs": [],
   "execution_count": null
  },
  {
   "metadata": {},
   "cell_type": "code",
   "source": "",
   "id": "435af9af65e2f2d7",
   "outputs": [],
   "execution_count": null
  }
 ],
 "metadata": {
  "kernelspec": {
   "display_name": "Python 3",
   "language": "python",
   "name": "python3"
  },
  "language_info": {
   "codemirror_mode": {
    "name": "ipython",
    "version": 2
   },
   "file_extension": ".py",
   "mimetype": "text/x-python",
   "name": "python",
   "nbconvert_exporter": "python",
   "pygments_lexer": "ipython2",
   "version": "3.11.9"
  }
 },
 "nbformat": 4,
 "nbformat_minor": 5
}

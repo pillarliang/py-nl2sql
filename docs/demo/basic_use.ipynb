{
 "cells": [
  {
   "cell_type": "code",
   "id": "initial_id",
   "metadata": {
    "collapsed": true,
    "ExecuteTime": {
     "end_time": "2024-09-10T08:14:02.215106Z",
     "start_time": "2024-09-10T08:09:26.504689Z"
    }
   },
   "source": [
    "from py_nl2sql.workflow import NL2SQLWorkflow\n",
    "from py_nl2sql.db_instance import DBInstance\n",
    "from py_nl2sql.models.llm import LLM\n",
    "\n",
    "llm = LLM()\n",
    "instance = DBInstance(\n",
    "    db_type=\"mysql\",\n",
    "    db_name=\"classicmodels\",\n",
    "    need_sql_sample=True,\n",
    "    db_user=\"root\",\n",
    "    db_password=\"\",\n",
    "    db_host=\"127.0.0.1\",\n",
    "    db_port=\"3306\",\n",
    "    llm=llm,\n",
    ")"
   ],
   "outputs": [
    {
     "ename": "KeyboardInterrupt",
     "evalue": "",
     "output_type": "error",
     "traceback": [
      "\u001B[0;31m---------------------------------------------------------------------------\u001B[0m",
      "\u001B[0;31mKeyboardInterrupt\u001B[0m                         Traceback (most recent call last)",
      "Cell \u001B[0;32mIn[1], line 6\u001B[0m\n\u001B[1;32m      3\u001B[0m \u001B[38;5;28;01mfrom\u001B[39;00m \u001B[38;5;21;01mpy_nl2sql\u001B[39;00m\u001B[38;5;21;01m.\u001B[39;00m\u001B[38;5;21;01mmodels\u001B[39;00m\u001B[38;5;21;01m.\u001B[39;00m\u001B[38;5;21;01mllm\u001B[39;00m \u001B[38;5;28;01mimport\u001B[39;00m LLM\n\u001B[1;32m      5\u001B[0m llm \u001B[38;5;241m=\u001B[39m LLM()\n\u001B[0;32m----> 6\u001B[0m instance \u001B[38;5;241m=\u001B[39m \u001B[43mDBInstance\u001B[49m\u001B[43m(\u001B[49m\n\u001B[1;32m      7\u001B[0m \u001B[43m    \u001B[49m\u001B[43mdb_type\u001B[49m\u001B[38;5;241;43m=\u001B[39;49m\u001B[38;5;124;43m\"\u001B[39;49m\u001B[38;5;124;43mmysql\u001B[39;49m\u001B[38;5;124;43m\"\u001B[39;49m\u001B[43m,\u001B[49m\n\u001B[1;32m      8\u001B[0m \u001B[43m    \u001B[49m\u001B[43mdb_name\u001B[49m\u001B[38;5;241;43m=\u001B[39;49m\u001B[38;5;124;43m\"\u001B[39;49m\u001B[38;5;124;43mclassicmodels\u001B[39;49m\u001B[38;5;124;43m\"\u001B[39;49m\u001B[43m,\u001B[49m\n\u001B[1;32m      9\u001B[0m \u001B[43m    \u001B[49m\u001B[43mneed_sql_sample\u001B[49m\u001B[38;5;241;43m=\u001B[39;49m\u001B[38;5;28;43;01mTrue\u001B[39;49;00m\u001B[43m,\u001B[49m\n\u001B[1;32m     10\u001B[0m \u001B[43m    \u001B[49m\u001B[43mdb_user\u001B[49m\u001B[38;5;241;43m=\u001B[39;49m\u001B[38;5;124;43m\"\u001B[39;49m\u001B[38;5;124;43mroot\u001B[39;49m\u001B[38;5;124;43m\"\u001B[39;49m\u001B[43m,\u001B[49m\n\u001B[1;32m     11\u001B[0m \u001B[43m    \u001B[49m\u001B[43mdb_password\u001B[49m\u001B[38;5;241;43m=\u001B[39;49m\u001B[38;5;124;43m\"\u001B[39;49m\u001B[38;5;124;43m\"\u001B[39;49m\u001B[43m,\u001B[49m\n\u001B[1;32m     12\u001B[0m \u001B[43m    \u001B[49m\u001B[43mdb_host\u001B[49m\u001B[38;5;241;43m=\u001B[39;49m\u001B[38;5;124;43m\"\u001B[39;49m\u001B[38;5;124;43m127.0.0.1\u001B[39;49m\u001B[38;5;124;43m\"\u001B[39;49m\u001B[43m,\u001B[49m\n\u001B[1;32m     13\u001B[0m \u001B[43m    \u001B[49m\u001B[43mdb_port\u001B[49m\u001B[38;5;241;43m=\u001B[39;49m\u001B[38;5;124;43m\"\u001B[39;49m\u001B[38;5;124;43m3306\u001B[39;49m\u001B[38;5;124;43m\"\u001B[39;49m\u001B[43m,\u001B[49m\n\u001B[1;32m     14\u001B[0m \u001B[43m    \u001B[49m\u001B[43mllm\u001B[49m\u001B[38;5;241;43m=\u001B[39;49m\u001B[43mllm\u001B[49m\u001B[43m,\u001B[49m\n\u001B[1;32m     15\u001B[0m \u001B[43m)\u001B[49m\n",
      "File \u001B[0;32m~/Documents/dev/ai/RAG/py_nl2sql/py_nl2sql/utilities/decorators.py:29\u001B[0m, in \u001B[0;36mdb_singleton.<locals>.get_instance\u001B[0;34m(*args, **kwargs)\u001B[0m\n\u001B[1;32m     27\u001B[0m     \u001B[38;5;28;01mwith\u001B[39;00m lock:\n\u001B[1;32m     28\u001B[0m         \u001B[38;5;28;01mif\u001B[39;00m key \u001B[38;5;129;01mnot\u001B[39;00m \u001B[38;5;129;01min\u001B[39;00m instances:\n\u001B[0;32m---> 29\u001B[0m             instances[key] \u001B[38;5;241m=\u001B[39m \u001B[38;5;28;43mcls\u001B[39;49m\u001B[43m(\u001B[49m\u001B[38;5;241;43m*\u001B[39;49m\u001B[43margs\u001B[49m\u001B[43m,\u001B[49m\u001B[43m \u001B[49m\u001B[38;5;241;43m*\u001B[39;49m\u001B[38;5;241;43m*\u001B[39;49m\u001B[43mkwargs\u001B[49m\u001B[43m)\u001B[49m\n\u001B[1;32m     31\u001B[0m \u001B[38;5;28;01mreturn\u001B[39;00m instances[key]\n",
      "File \u001B[0;32m~/Documents/dev/ai/RAG/py_nl2sql/py_nl2sql/db_instance.py:55\u001B[0m, in \u001B[0;36mDBInstance.__init__\u001B[0;34m(self, llm, db_type, db_name, db_host, db_port, db_user, db_password, need_sql_sample)\u001B[0m\n\u001B[1;32m     53\u001B[0m \u001B[38;5;28mself\u001B[39m\u001B[38;5;241m.\u001B[39mdb_summary \u001B[38;5;241m=\u001B[39m \u001B[38;5;28mself\u001B[39m\u001B[38;5;241m.\u001B[39mget_db_summary()\n\u001B[1;32m     54\u001B[0m \u001B[38;5;28mself\u001B[39m\u001B[38;5;241m.\u001B[39msummary_index \u001B[38;5;241m=\u001B[39m FaissWrapper(text_chunks\u001B[38;5;241m=\u001B[39m\u001B[38;5;28mself\u001B[39m\u001B[38;5;241m.\u001B[39mdb_summary, embedding\u001B[38;5;241m=\u001B[39m\u001B[38;5;28mself\u001B[39m\u001B[38;5;241m.\u001B[39mllm\u001B[38;5;241m.\u001B[39membedding_model)\n\u001B[0;32m---> 55\u001B[0m \u001B[38;5;28mself\u001B[39m\u001B[38;5;241m.\u001B[39msql_example \u001B[38;5;241m=\u001B[39m need_sql_sample \u001B[38;5;129;01mand\u001B[39;00m llm \u001B[38;5;129;01mand\u001B[39;00m \u001B[38;5;28;43mself\u001B[39;49m\u001B[38;5;241;43m.\u001B[39;49m\u001B[43m_get_sql_example_llm\u001B[49m\u001B[43m(\u001B[49m\u001B[43m)\u001B[49m\n\u001B[1;32m     56\u001B[0m \u001B[38;5;28mself\u001B[39m\u001B[38;5;241m.\u001B[39msql_example_index \u001B[38;5;241m=\u001B[39m need_sql_sample \u001B[38;5;129;01mand\u001B[39;00m llm \u001B[38;5;129;01mand\u001B[39;00m FaissWrapper(text_chunks\u001B[38;5;241m=\u001B[39m\u001B[38;5;28mself\u001B[39m\u001B[38;5;241m.\u001B[39msql_example, embedding\u001B[38;5;241m=\u001B[39m\u001B[38;5;28mself\u001B[39m\u001B[38;5;241m.\u001B[39mllm\u001B[38;5;241m.\u001B[39membedding_model)\n\u001B[1;32m     58\u001B[0m \u001B[38;5;66;03m# init state machine\u001B[39;00m\n",
      "File \u001B[0;32m~/Documents/dev/ai/RAG/py_nl2sql/py_nl2sql/db_instance.py:81\u001B[0m, in \u001B[0;36mDBInstance._get_sql_example_llm\u001B[0;34m(self)\u001B[0m\n\u001B[1;32m     78\u001B[0m sample_sql \u001B[38;5;241m=\u001B[39m []\n\u001B[1;32m     80\u001B[0m \u001B[38;5;28;01mfor\u001B[39;00m table \u001B[38;5;129;01min\u001B[39;00m table_info_list:\n\u001B[0;32m---> 81\u001B[0m     response \u001B[38;5;241m=\u001B[39m \u001B[38;5;28;43mself\u001B[39;49m\u001B[38;5;241;43m.\u001B[39;49m\u001B[43mllm\u001B[49m\u001B[38;5;241;43m.\u001B[39;49m\u001B[43mget_structured_response\u001B[49m\u001B[43m(\u001B[49m\u001B[43mCREATE_SAMPLE_SQL_FROM_TABLE\u001B[49m\u001B[38;5;241;43m.\u001B[39;49m\u001B[43mformat\u001B[49m\u001B[43m(\u001B[49m\u001B[43mtable_info\u001B[49m\u001B[38;5;241;43m=\u001B[39;49m\u001B[43mtable\u001B[49m\u001B[43m)\u001B[49m\u001B[43m,\u001B[49m\n\u001B[1;32m     82\u001B[0m \u001B[43m                                                \u001B[49m\u001B[43mresponse_format\u001B[49m\u001B[38;5;241;43m=\u001B[39;49m\u001B[43mGenerateSampleSQLResponse\u001B[49m\u001B[43m)\u001B[49m\n\u001B[1;32m     83\u001B[0m     sample_sql\u001B[38;5;241m.\u001B[39mextend(response[\u001B[38;5;124m\"\u001B[39m\u001B[38;5;124msql_list\u001B[39m\u001B[38;5;124m\"\u001B[39m])\n\u001B[1;32m     85\u001B[0m \u001B[38;5;28;01mreturn\u001B[39;00m sample_sql\n",
      "File \u001B[0;32m~/Documents/dev/ai/RAG/py_nl2sql/py_nl2sql/models/llm.py:33\u001B[0m, in \u001B[0;36mLLM.get_structured_response\u001B[0;34m(self, query, response_format)\u001B[0m\n\u001B[1;32m     32\u001B[0m \u001B[38;5;28;01mdef\u001B[39;00m \u001B[38;5;21mget_structured_response\u001B[39m(\u001B[38;5;28mself\u001B[39m, query: \u001B[38;5;28mstr\u001B[39m, response_format):\n\u001B[0;32m---> 33\u001B[0m     completion \u001B[38;5;241m=\u001B[39m \u001B[38;5;28;43mself\u001B[39;49m\u001B[38;5;241;43m.\u001B[39;49m\u001B[43mclient\u001B[49m\u001B[38;5;241;43m.\u001B[39;49m\u001B[43mbeta\u001B[49m\u001B[38;5;241;43m.\u001B[39;49m\u001B[43mchat\u001B[49m\u001B[38;5;241;43m.\u001B[39;49m\u001B[43mcompletions\u001B[49m\u001B[38;5;241;43m.\u001B[39;49m\u001B[43mparse\u001B[49m\u001B[43m(\u001B[49m\n\u001B[1;32m     34\u001B[0m \u001B[43m        \u001B[49m\u001B[43mmodel\u001B[49m\u001B[38;5;241;43m=\u001B[39;49m\u001B[43mLLMModel\u001B[49m\u001B[38;5;241;43m.\u001B[39;49m\u001B[43mDefault\u001B[49m\u001B[43m,\u001B[49m\n\u001B[1;32m     35\u001B[0m \u001B[43m        \u001B[49m\u001B[38;5;66;43;03m# TODO: currently using a specific model, due to only lasted model support structured response\u001B[39;49;00m\n\u001B[1;32m     36\u001B[0m \u001B[43m        \u001B[49m\u001B[43mmessages\u001B[49m\u001B[38;5;241;43m=\u001B[39;49m\u001B[43m[\u001B[49m\u001B[43m{\u001B[49m\u001B[38;5;124;43m\"\u001B[39;49m\u001B[38;5;124;43mrole\u001B[39;49m\u001B[38;5;124;43m\"\u001B[39;49m\u001B[43m:\u001B[49m\u001B[43m \u001B[49m\u001B[38;5;124;43m\"\u001B[39;49m\u001B[38;5;124;43muser\u001B[39;49m\u001B[38;5;124;43m\"\u001B[39;49m\u001B[43m,\u001B[49m\u001B[43m \u001B[49m\u001B[38;5;124;43m\"\u001B[39;49m\u001B[38;5;124;43mcontent\u001B[39;49m\u001B[38;5;124;43m\"\u001B[39;49m\u001B[43m:\u001B[49m\u001B[43m \u001B[49m\u001B[43mquery\u001B[49m\u001B[43m}\u001B[49m\u001B[43m]\u001B[49m\u001B[43m,\u001B[49m\n\u001B[1;32m     37\u001B[0m \u001B[43m        \u001B[49m\u001B[43mresponse_format\u001B[49m\u001B[38;5;241;43m=\u001B[39;49m\u001B[43mresponse_format\u001B[49m\u001B[43m,\u001B[49m\n\u001B[1;32m     38\u001B[0m \u001B[43m    \u001B[49m\u001B[43m)\u001B[49m\n\u001B[1;32m     40\u001B[0m     \u001B[38;5;28;01mreturn\u001B[39;00m json\u001B[38;5;241m.\u001B[39mloads(completion\u001B[38;5;241m.\u001B[39mchoices[\u001B[38;5;241m0\u001B[39m]\u001B[38;5;241m.\u001B[39mmessage\u001B[38;5;241m.\u001B[39mcontent)\n",
      "File \u001B[0;32m~/Library/Caches/pypoetry/virtualenvs/py-nl2sql-fGp2UFWJ-py3.11/lib/python3.11/site-packages/openai/resources/beta/chat/completions.py:118\u001B[0m, in \u001B[0;36mCompletions.parse\u001B[0;34m(self, messages, model, response_format, frequency_penalty, function_call, functions, logit_bias, logprobs, max_tokens, n, parallel_tool_calls, presence_penalty, seed, service_tier, stop, stream_options, temperature, tool_choice, tools, top_logprobs, top_p, user, extra_headers, extra_query, extra_body, timeout)\u001B[0m\n\u001B[1;32m    108\u001B[0m _validate_input_tools(tools)\n\u001B[1;32m    110\u001B[0m extra_headers \u001B[38;5;241m=\u001B[39m {\n\u001B[1;32m    111\u001B[0m     \u001B[38;5;124m\"\u001B[39m\u001B[38;5;124mX-Stainless-Helper-Method\u001B[39m\u001B[38;5;124m\"\u001B[39m: \u001B[38;5;124m\"\u001B[39m\u001B[38;5;124mbeta.chat.completions.parse\u001B[39m\u001B[38;5;124m\"\u001B[39m,\n\u001B[1;32m    112\u001B[0m     \u001B[38;5;241m*\u001B[39m\u001B[38;5;241m*\u001B[39m(extra_headers \u001B[38;5;129;01mor\u001B[39;00m {}),\n\u001B[1;32m    113\u001B[0m }\n\u001B[1;32m    115\u001B[0m raw_completion \u001B[38;5;241m=\u001B[39m \u001B[38;5;28mself\u001B[39m\u001B[38;5;241m.\u001B[39m_client\u001B[38;5;241m.\u001B[39mchat\u001B[38;5;241m.\u001B[39mcompletions\u001B[38;5;241m.\u001B[39mcreate(\n\u001B[1;32m    116\u001B[0m     messages\u001B[38;5;241m=\u001B[39mmessages,\n\u001B[1;32m    117\u001B[0m     model\u001B[38;5;241m=\u001B[39mmodel,\n\u001B[0;32m--> 118\u001B[0m     response_format\u001B[38;5;241m=\u001B[39m\u001B[43m_type_to_response_format\u001B[49m\u001B[43m(\u001B[49m\u001B[43mresponse_format\u001B[49m\u001B[43m)\u001B[49m,\n\u001B[1;32m    119\u001B[0m     frequency_penalty\u001B[38;5;241m=\u001B[39mfrequency_penalty,\n\u001B[1;32m    120\u001B[0m     function_call\u001B[38;5;241m=\u001B[39mfunction_call,\n\u001B[1;32m    121\u001B[0m     functions\u001B[38;5;241m=\u001B[39mfunctions,\n\u001B[1;32m    122\u001B[0m     logit_bias\u001B[38;5;241m=\u001B[39mlogit_bias,\n\u001B[1;32m    123\u001B[0m     logprobs\u001B[38;5;241m=\u001B[39mlogprobs,\n\u001B[1;32m    124\u001B[0m     max_tokens\u001B[38;5;241m=\u001B[39mmax_tokens,\n\u001B[1;32m    125\u001B[0m     n\u001B[38;5;241m=\u001B[39mn,\n\u001B[1;32m    126\u001B[0m     parallel_tool_calls\u001B[38;5;241m=\u001B[39mparallel_tool_calls,\n\u001B[1;32m    127\u001B[0m     presence_penalty\u001B[38;5;241m=\u001B[39mpresence_penalty,\n\u001B[1;32m    128\u001B[0m     seed\u001B[38;5;241m=\u001B[39mseed,\n\u001B[1;32m    129\u001B[0m     service_tier\u001B[38;5;241m=\u001B[39mservice_tier,\n\u001B[1;32m    130\u001B[0m     stop\u001B[38;5;241m=\u001B[39mstop,\n\u001B[1;32m    131\u001B[0m     stream_options\u001B[38;5;241m=\u001B[39mstream_options,\n\u001B[1;32m    132\u001B[0m     temperature\u001B[38;5;241m=\u001B[39mtemperature,\n\u001B[1;32m    133\u001B[0m     tool_choice\u001B[38;5;241m=\u001B[39mtool_choice,\n\u001B[1;32m    134\u001B[0m     tools\u001B[38;5;241m=\u001B[39mtools,\n\u001B[1;32m    135\u001B[0m     top_logprobs\u001B[38;5;241m=\u001B[39mtop_logprobs,\n\u001B[1;32m    136\u001B[0m     top_p\u001B[38;5;241m=\u001B[39mtop_p,\n\u001B[1;32m    137\u001B[0m     user\u001B[38;5;241m=\u001B[39muser,\n\u001B[1;32m    138\u001B[0m     extra_headers\u001B[38;5;241m=\u001B[39mextra_headers,\n\u001B[1;32m    139\u001B[0m     extra_query\u001B[38;5;241m=\u001B[39mextra_query,\n\u001B[1;32m    140\u001B[0m     extra_body\u001B[38;5;241m=\u001B[39mextra_body,\n\u001B[1;32m    141\u001B[0m     timeout\u001B[38;5;241m=\u001B[39mtimeout,\n\u001B[1;32m    142\u001B[0m )\n\u001B[1;32m    143\u001B[0m \u001B[38;5;28;01mreturn\u001B[39;00m _parse_chat_completion(\n\u001B[1;32m    144\u001B[0m     response_format\u001B[38;5;241m=\u001B[39mresponse_format,\n\u001B[1;32m    145\u001B[0m     chat_completion\u001B[38;5;241m=\u001B[39mraw_completion,\n\u001B[1;32m    146\u001B[0m     input_tools\u001B[38;5;241m=\u001B[39mtools,\n\u001B[1;32m    147\u001B[0m )\n",
      "File \u001B[0;32m~/Library/Caches/pypoetry/virtualenvs/py-nl2sql-fGp2UFWJ-py3.11/lib/python3.11/site-packages/openai/lib/_parsing/_completions.py:238\u001B[0m, in \u001B[0;36mtype_to_response_format_param\u001B[0;34m(response_format)\u001B[0m\n\u001B[1;32m    235\u001B[0m \u001B[38;5;28;01mif\u001B[39;00m \u001B[38;5;129;01mnot\u001B[39;00m is_given(response_format):\n\u001B[1;32m    236\u001B[0m     \u001B[38;5;28;01mreturn\u001B[39;00m NOT_GIVEN\n\u001B[0;32m--> 238\u001B[0m \u001B[38;5;28;01mif\u001B[39;00m \u001B[43mis_response_format_param\u001B[49m\u001B[43m(\u001B[49m\u001B[43mresponse_format\u001B[49m\u001B[43m)\u001B[49m:\n\u001B[1;32m    239\u001B[0m     \u001B[38;5;28;01mreturn\u001B[39;00m response_format\n\u001B[1;32m    241\u001B[0m \u001B[38;5;66;03m# type checkers don't narrow the negation of a `TypeGuard` as it isn't\u001B[39;00m\n\u001B[1;32m    242\u001B[0m \u001B[38;5;66;03m# a safe default behaviour but we know that at this point the `response_format`\u001B[39;00m\n\u001B[1;32m    243\u001B[0m \u001B[38;5;66;03m# can only be a `type`\u001B[39;00m\n",
      "File \u001B[0;32m~/Library/Caches/pypoetry/virtualenvs/py-nl2sql-fGp2UFWJ-py3.11/lib/python3.11/site-packages/openai/lib/_parsing/_completions.py:208\u001B[0m, in \u001B[0;36mis_response_format_param\u001B[0;34m(response_format)\u001B[0m\n\u001B[1;32m    207\u001B[0m \u001B[38;5;28;01mdef\u001B[39;00m \u001B[38;5;21mis_response_format_param\u001B[39m(response_format: \u001B[38;5;28mobject\u001B[39m) \u001B[38;5;241m-\u001B[39m\u001B[38;5;241m>\u001B[39m TypeGuard[ResponseFormatParam]:\n\u001B[0;32m--> 208\u001B[0m     \u001B[38;5;28;01mreturn\u001B[39;00m \u001B[43mis_dict\u001B[49m\u001B[43m(\u001B[49m\u001B[43mresponse_format\u001B[49m\u001B[43m)\u001B[49m\n",
      "File \u001B[0;32m_pydevd_bundle/pydevd_cython_darwin_311_64.pyx:1187\u001B[0m, in \u001B[0;36m_pydevd_bundle.pydevd_cython_darwin_311_64.SafeCallWrapper.__call__\u001B[0;34m()\u001B[0m\n",
      "File \u001B[0;32m_pydevd_bundle/pydevd_cython_darwin_311_64.pyx:627\u001B[0m, in \u001B[0;36m_pydevd_bundle.pydevd_cython_darwin_311_64.PyDBFrame.trace_dispatch\u001B[0;34m()\u001B[0m\n",
      "File \u001B[0;32m_pydevd_bundle/pydevd_cython_darwin_311_64.pyx:1103\u001B[0m, in \u001B[0;36m_pydevd_bundle.pydevd_cython_darwin_311_64.PyDBFrame.trace_dispatch\u001B[0;34m()\u001B[0m\n",
      "File \u001B[0;32m_pydevd_bundle/pydevd_cython_darwin_311_64.pyx:1096\u001B[0m, in \u001B[0;36m_pydevd_bundle.pydevd_cython_darwin_311_64.PyDBFrame.trace_dispatch\u001B[0;34m()\u001B[0m\n",
      "File \u001B[0;32m_pydevd_bundle/pydevd_cython_darwin_311_64.pyx:585\u001B[0m, in \u001B[0;36m_pydevd_bundle.pydevd_cython_darwin_311_64.PyDBFrame.do_wait_suspend\u001B[0;34m()\u001B[0m\n",
      "File \u001B[0;32m/Applications/PyCharm.app/Contents/plugins/python/helpers/pydev/pydevd.py:1201\u001B[0m, in \u001B[0;36mPyDB.do_wait_suspend\u001B[0;34m(self, thread, frame, event, arg, send_suspend_message, is_unhandled_exception)\u001B[0m\n\u001B[1;32m   1198\u001B[0m         from_this_thread\u001B[38;5;241m.\u001B[39mappend(frame_id)\n\u001B[1;32m   1200\u001B[0m \u001B[38;5;28;01mwith\u001B[39;00m \u001B[38;5;28mself\u001B[39m\u001B[38;5;241m.\u001B[39m_threads_suspended_single_notification\u001B[38;5;241m.\u001B[39mnotify_thread_suspended(thread_id, stop_reason):\n\u001B[0;32m-> 1201\u001B[0m     \u001B[38;5;28;43mself\u001B[39;49m\u001B[38;5;241;43m.\u001B[39;49m\u001B[43m_do_wait_suspend\u001B[49m\u001B[43m(\u001B[49m\u001B[43mthread\u001B[49m\u001B[43m,\u001B[49m\u001B[43m \u001B[49m\u001B[43mframe\u001B[49m\u001B[43m,\u001B[49m\u001B[43m \u001B[49m\u001B[43mevent\u001B[49m\u001B[43m,\u001B[49m\u001B[43m \u001B[49m\u001B[43marg\u001B[49m\u001B[43m,\u001B[49m\u001B[43m \u001B[49m\u001B[43msuspend_type\u001B[49m\u001B[43m,\u001B[49m\u001B[43m \u001B[49m\u001B[43mfrom_this_thread\u001B[49m\u001B[43m)\u001B[49m\n",
      "File \u001B[0;32m/Applications/PyCharm.app/Contents/plugins/python/helpers/pydev/pydevd.py:1216\u001B[0m, in \u001B[0;36mPyDB._do_wait_suspend\u001B[0;34m(self, thread, frame, event, arg, suspend_type, from_this_thread)\u001B[0m\n\u001B[1;32m   1213\u001B[0m             \u001B[38;5;28mself\u001B[39m\u001B[38;5;241m.\u001B[39m_call_mpl_hook()\n\u001B[1;32m   1215\u001B[0m         \u001B[38;5;28mself\u001B[39m\u001B[38;5;241m.\u001B[39mprocess_internal_commands()\n\u001B[0;32m-> 1216\u001B[0m         time\u001B[38;5;241m.\u001B[39msleep(\u001B[38;5;241m0.01\u001B[39m)\n\u001B[1;32m   1218\u001B[0m \u001B[38;5;28mself\u001B[39m\u001B[38;5;241m.\u001B[39mcancel_async_evaluation(get_current_thread_id(thread), \u001B[38;5;28mstr\u001B[39m(\u001B[38;5;28mid\u001B[39m(frame)))\n\u001B[1;32m   1220\u001B[0m \u001B[38;5;66;03m# process any stepping instructions\u001B[39;00m\n",
      "\u001B[0;31mKeyboardInterrupt\u001B[0m: "
     ]
    }
   ],
   "execution_count": 1
  },
  {
   "metadata": {
    "ExecuteTime": {
     "end_time": "2024-08-30T08:58:12.319796Z",
     "start_time": "2024-08-30T08:58:02.186539Z"
    }
   },
   "cell_type": "code",
   "source": [
    "query = \"give me details of customer and their order count\"\n",
    "service = NL2SQLWorkflow(instance, query, llm)\n",
    "res = service.get_response()\n",
    "print(res)"
   ],
   "id": "349231cfbffe4635",
   "outputs": [
    {
     "name": "stdout",
     "output_type": "stream",
     "text": [
      "Here are the details of the customers along with their order counts:\n",
      "\n",
      "1. **Customer Number**: 103\n",
      "   - **Customer Name**: Atelier graphique\n",
      "   - **Contact First Name**: Carine\n",
      "   - **Contact Last Name**: Schmitt\n",
      "   - **Order Count**: 3\n",
      "\n",
      "2. **Customer Number**: 112\n",
      "   - **Customer Name**: Signal Gift Stores\n",
      "   - **Contact First Name**: Jean\n",
      "   - **Contact Last Name**: King\n",
      "   - **Order Count**: 3\n",
      "\n",
      "3. **Customer Number**: 114\n",
      "   - **Customer Name**: Australian Collectors, Co.\n",
      "   - **Contact First Name**: Peter\n",
      "   - **Contact Last Name**: Ferguson\n",
      "   - **Order Count**: 5\n",
      "\n",
      "4. **Customer Number**: 119\n",
      "   - **Customer Name**: La Rochelle Gifts\n",
      "   - **Contact First Name**: Janine\n",
      "   - **Contact Last Name**: Labrune\n",
      "   - **Order Count**: 4\n",
      "\n",
      "5. **Customer Number**: 121\n",
      "   - **Customer Name**: Baane Mini Imports\n",
      "   - **Contact First Name**: Jonas\n",
      "   - **Contact Last Name**: Bergulfsen\n",
      "   - **Order Count**: 4\n",
      "\n",
      "These results show a list of customers with their respective order counts.\n"
     ]
    }
   ],
   "execution_count": 3
  },
  {
   "metadata": {
    "ExecuteTime": {
     "end_time": "2024-08-30T08:58:46.372335Z",
     "start_time": "2024-08-30T08:58:46.368718Z"
    }
   },
   "cell_type": "code",
   "source": "print(service.origin_query)",
   "id": "6b4ed8bd9ee27146",
   "outputs": [
    {
     "name": "stdout",
     "output_type": "stream",
     "text": [
      "give me details of customer and their order count\n"
     ]
    }
   ],
   "execution_count": 7
  },
  {
   "metadata": {
    "ExecuteTime": {
     "end_time": "2024-08-30T08:58:47.794226Z",
     "start_time": "2024-08-30T08:58:47.790704Z"
    }
   },
   "cell_type": "code",
   "source": "print(service.text_to_sql_query)",
   "id": "1b8d64a5381d48a6",
   "outputs": [
    {
     "name": "stdout",
     "output_type": "stream",
     "text": [
      "Get the details of customers along with their order count\n"
     ]
    }
   ],
   "execution_count": 8
  },
  {
   "metadata": {
    "ExecuteTime": {
     "end_time": "2024-08-30T08:58:50.900704Z",
     "start_time": "2024-08-30T08:58:50.896961Z"
    }
   },
   "cell_type": "code",
   "source": "print(service.interpretation_query)",
   "id": "9bd99cb3493712e6",
   "outputs": [
    {
     "name": "stdout",
     "output_type": "stream",
     "text": [
      "Provide the order count for each customer\n"
     ]
    }
   ],
   "execution_count": 9
  },
  {
   "metadata": {
    "ExecuteTime": {
     "end_time": "2024-08-30T07:42:16.443922Z",
     "start_time": "2024-08-30T07:42:16.440108Z"
    }
   },
   "cell_type": "code",
   "source": "print(service.related_table_summary)",
   "id": "9f6473070b571854",
   "outputs": [
    {
     "name": "stdout",
     "output_type": "stream",
     "text": [
      "['products(productCode, productName, productLine, productScale, productVendor, productDescription, quantityInStock, buyPrice, MSRP), and index keys: productLine(`productLine`) ', 'payments(customerNumber, checkNumber, paymentDate, amount)', 'orderdetails(orderNumber, productCode, quantityOrdered, priceEach, orderLineNumber), and index keys: productCode(`productCode`) ', 'orders(orderNumber, orderDate, requiredDate, shippedDate, status, comments, customerNumber), and index keys: customerNumber(`customerNumber`) ', 'customers(customerNumber, customerName, contactLastName, contactFirstName, phone, addressLine1, addressLine2, city, state, postalCode, country, salesRepEmployeeNumber, creditLimit), and index keys: salesRepEmployeeNumber(`salesRepEmployeeNumber`) ']\n"
     ]
    }
   ],
   "execution_count": 6
  },
  {
   "cell_type": "code",
   "id": "296cd75714917977",
   "metadata": {
    "ExecuteTime": {
     "end_time": "2024-08-30T08:58:53.107413Z",
     "start_time": "2024-08-30T08:58:53.103974Z"
    }
   },
   "source": "print(service.final_sql_query)",
   "outputs": [
    {
     "name": "stdout",
     "output_type": "stream",
     "text": [
      "SELECT `customers`.`customerNumber`, `customers`.`customerName`, `customers`.`contactFirstName`, `customers`.`contactLastName`, COUNT(`orders`.`orderNumber`) AS `orderCount` FROM `customers` LEFT JOIN `orders` ON `customers`.`customerNumber` = `orders`.`customerNumber` GROUP BY `customers`.`customerNumber` LIMIT 5;\n"
     ]
    }
   ],
   "execution_count": 10
  },
  {
   "metadata": {
    "ExecuteTime": {
     "end_time": "2024-08-30T03:00:07.263200Z",
     "start_time": "2024-08-30T03:00:07.260247Z"
    }
   },
   "cell_type": "code",
   "source": "print(service.sql_result)",
   "id": "d86227e84a30dac3",
   "outputs": [
    {
     "name": "stdout",
     "output_type": "stream",
     "text": [
      "[('S12_1099', '1968 Ford Mustang', Decimal('95.34'))]\n"
     ]
    }
   ],
   "execution_count": 3
  },
  {
   "metadata": {},
   "cell_type": "code",
   "outputs": [],
   "execution_count": null,
   "source": "",
   "id": "435af9af65e2f2d7"
  }
 ],
 "metadata": {
  "kernelspec": {
   "display_name": "Python 3",
   "language": "python",
   "name": "python3"
  },
  "language_info": {
   "codemirror_mode": {
    "name": "ipython",
    "version": 2
   },
   "file_extension": ".py",
   "mimetype": "text/x-python",
   "name": "python",
   "nbconvert_exporter": "python",
   "pygments_lexer": "ipython2",
   "version": "3.11.9"
  }
 },
 "nbformat": 4,
 "nbformat_minor": 5
}

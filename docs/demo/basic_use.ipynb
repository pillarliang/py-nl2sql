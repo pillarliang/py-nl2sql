{
 "cells": [
  {
   "cell_type": "code",
   "id": "initial_id",
   "metadata": {
    "collapsed": true,
    "ExecuteTime": {
     "end_time": "2024-08-30T02:51:02.637414Z",
     "start_time": "2024-08-30T02:50:27.940470Z"
    }
   },
   "source": [
    "from py_nl2sql.workflow import NL2SQLWorkflow\n",
    "from py_nl2sql.db_instance import DBInstance\n",
    "from py_nl2sql.models.llm import LLM\n",
    "\n",
    "llm = LLM()\n",
    "instance = DBInstance(\n",
    "    db_type=\"mysql\",\n",
    "    db_name=\"classicmodels\",\n",
    "    need_sql_sample=True,\n",
    "    db_user=\"root\",\n",
    "    db_password=\"\",\n",
    "    db_host=\"127.0.0.1\",\n",
    "    db_port=\"3306\",\n",
    "    llm=llm,\n",
    ")\n",
    "query = \"what is price of `1968 Ford Mustang`\"\n",
    "service = NL2SQLWorkflow(instance, query)\n",
    "res = service.get_response()\n",
    "print(res)"
   ],
   "outputs": [
    {
     "name": "stdout",
     "output_type": "stream",
     "text": [
      "The price of the 1968 Ford Mustang is $95.34.\n"
     ]
    }
   ],
   "execution_count": 1
  },
  {
   "cell_type": "code",
   "id": "296cd75714917977",
   "metadata": {
    "ExecuteTime": {
     "end_time": "2024-08-30T02:59:52.305078Z",
     "start_time": "2024-08-30T02:59:52.296769Z"
    }
   },
   "source": "print(service.final_sql_query)",
   "outputs": [
    {
     "name": "stdout",
     "output_type": "stream",
     "text": [
      "SELECT `productCode`, `productName`, `buyPrice` FROM products WHERE `productName` = '1968 Ford Mustang';\n"
     ]
    }
   ],
   "execution_count": 2
  },
  {
   "metadata": {
    "ExecuteTime": {
     "end_time": "2024-08-30T03:00:07.263200Z",
     "start_time": "2024-08-30T03:00:07.260247Z"
    }
   },
   "cell_type": "code",
   "source": "print(service.sql_result)",
   "id": "d86227e84a30dac3",
   "outputs": [
    {
     "name": "stdout",
     "output_type": "stream",
     "text": [
      "[('S12_1099', '1968 Ford Mustang', Decimal('95.34'))]\n"
     ]
    }
   ],
   "execution_count": 3
  },
  {
   "metadata": {},
   "cell_type": "code",
   "outputs": [],
   "execution_count": null,
   "source": "",
   "id": "435af9af65e2f2d7"
  }
 ],
 "metadata": {
  "kernelspec": {
   "display_name": "Python 3",
   "language": "python",
   "name": "python3"
  },
  "language_info": {
   "codemirror_mode": {
    "name": "ipython",
    "version": 2
   },
   "file_extension": ".py",
   "mimetype": "text/x-python",
   "name": "python",
   "nbconvert_exporter": "python",
   "pygments_lexer": "ipython2",
   "version": "3.11.9"
  }
 },
 "nbformat": 4,
 "nbformat_minor": 5
}

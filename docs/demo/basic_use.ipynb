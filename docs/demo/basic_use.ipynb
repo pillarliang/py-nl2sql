{
 "cells": [
  {
   "cell_type": "code",
   "id": "initial_id",
   "metadata": {
    "collapsed": true,
    "ExecuteTime": {
     "end_time": "2024-08-30T08:57:50.872426Z",
     "start_time": "2024-08-30T08:57:28.088113Z"
    }
   },
   "source": [
    "from py_nl2sql.workflow import NL2SQLWorkflow\n",
    "from py_nl2sql.db_instance import DBInstance\n",
    "from py_nl2sql.models.llm import LLM\n",
    "\n",
    "llm = LLM()\n",
    "instance = DBInstance(\n",
    "    db_type=\"mysql\",\n",
    "    db_name=\"classicmodels\",\n",
    "    need_sql_sample=True,\n",
    "    db_user=\"root\",\n",
    "    db_password=\"\",\n",
    "    db_host=\"127.0.0.1\",\n",
    "    db_port=\"3306\",\n",
    "    llm=llm,\n",
    ")"
   ],
   "outputs": [],
   "execution_count": 2
  },
  {
   "metadata": {
    "ExecuteTime": {
     "end_time": "2024-08-30T08:58:12.319796Z",
     "start_time": "2024-08-30T08:58:02.186539Z"
    }
   },
   "cell_type": "code",
   "source": [
    "query = \"give me details of customer and their order count\"\n",
    "service = NL2SQLWorkflow(instance, query, llm)\n",
    "res = service.get_response()\n",
    "print(res)"
   ],
   "id": "349231cfbffe4635",
   "outputs": [
    {
     "name": "stdout",
     "output_type": "stream",
     "text": [
      "Here are the details of the customers along with their order counts:\n",
      "\n",
      "1. **Customer Number**: 103\n",
      "   - **Customer Name**: Atelier graphique\n",
      "   - **Contact First Name**: Carine\n",
      "   - **Contact Last Name**: Schmitt\n",
      "   - **Order Count**: 3\n",
      "\n",
      "2. **Customer Number**: 112\n",
      "   - **Customer Name**: Signal Gift Stores\n",
      "   - **Contact First Name**: Jean\n",
      "   - **Contact Last Name**: King\n",
      "   - **Order Count**: 3\n",
      "\n",
      "3. **Customer Number**: 114\n",
      "   - **Customer Name**: Australian Collectors, Co.\n",
      "   - **Contact First Name**: Peter\n",
      "   - **Contact Last Name**: Ferguson\n",
      "   - **Order Count**: 5\n",
      "\n",
      "4. **Customer Number**: 119\n",
      "   - **Customer Name**: La Rochelle Gifts\n",
      "   - **Contact First Name**: Janine\n",
      "   - **Contact Last Name**: Labrune\n",
      "   - **Order Count**: 4\n",
      "\n",
      "5. **Customer Number**: 121\n",
      "   - **Customer Name**: Baane Mini Imports\n",
      "   - **Contact First Name**: Jonas\n",
      "   - **Contact Last Name**: Bergulfsen\n",
      "   - **Order Count**: 4\n",
      "\n",
      "These results show a list of customers with their respective order counts.\n"
     ]
    }
   ],
   "execution_count": 3
  },
  {
   "metadata": {
    "ExecuteTime": {
     "end_time": "2024-08-30T08:58:46.372335Z",
     "start_time": "2024-08-30T08:58:46.368718Z"
    }
   },
   "cell_type": "code",
   "source": "print(service.origin_query)",
   "id": "6b4ed8bd9ee27146",
   "outputs": [
    {
     "name": "stdout",
     "output_type": "stream",
     "text": [
      "give me details of customer and their order count\n"
     ]
    }
   ],
   "execution_count": 7
  },
  {
   "metadata": {
    "ExecuteTime": {
     "end_time": "2024-08-30T08:58:47.794226Z",
     "start_time": "2024-08-30T08:58:47.790704Z"
    }
   },
   "cell_type": "code",
   "source": "print(service.text_to_sql_query)",
   "id": "1b8d64a5381d48a6",
   "outputs": [
    {
     "name": "stdout",
     "output_type": "stream",
     "text": [
      "Get the details of customers along with their order count\n"
     ]
    }
   ],
   "execution_count": 8
  },
  {
   "metadata": {
    "ExecuteTime": {
     "end_time": "2024-08-30T08:58:50.900704Z",
     "start_time": "2024-08-30T08:58:50.896961Z"
    }
   },
   "cell_type": "code",
   "source": "print(service.interpretation_query)",
   "id": "9bd99cb3493712e6",
   "outputs": [
    {
     "name": "stdout",
     "output_type": "stream",
     "text": [
      "Provide the order count for each customer\n"
     ]
    }
   ],
   "execution_count": 9
  },
  {
   "metadata": {
    "ExecuteTime": {
     "end_time": "2024-08-30T07:42:16.443922Z",
     "start_time": "2024-08-30T07:42:16.440108Z"
    }
   },
   "cell_type": "code",
   "source": "print(service.related_table_summary)",
   "id": "9f6473070b571854",
   "outputs": [
    {
     "name": "stdout",
     "output_type": "stream",
     "text": [
      "['products(productCode, productName, productLine, productScale, productVendor, productDescription, quantityInStock, buyPrice, MSRP), and index keys: productLine(`productLine`) ', 'payments(customerNumber, checkNumber, paymentDate, amount)', 'orderdetails(orderNumber, productCode, quantityOrdered, priceEach, orderLineNumber), and index keys: productCode(`productCode`) ', 'orders(orderNumber, orderDate, requiredDate, shippedDate, status, comments, customerNumber), and index keys: customerNumber(`customerNumber`) ', 'customers(customerNumber, customerName, contactLastName, contactFirstName, phone, addressLine1, addressLine2, city, state, postalCode, country, salesRepEmployeeNumber, creditLimit), and index keys: salesRepEmployeeNumber(`salesRepEmployeeNumber`) ']\n"
     ]
    }
   ],
   "execution_count": 6
  },
  {
   "cell_type": "code",
   "id": "296cd75714917977",
   "metadata": {
    "ExecuteTime": {
     "end_time": "2024-08-30T08:58:53.107413Z",
     "start_time": "2024-08-30T08:58:53.103974Z"
    }
   },
   "source": "print(service.final_sql_query)",
   "outputs": [
    {
     "name": "stdout",
     "output_type": "stream",
     "text": [
      "SELECT `customers`.`customerNumber`, `customers`.`customerName`, `customers`.`contactFirstName`, `customers`.`contactLastName`, COUNT(`orders`.`orderNumber`) AS `orderCount` FROM `customers` LEFT JOIN `orders` ON `customers`.`customerNumber` = `orders`.`customerNumber` GROUP BY `customers`.`customerNumber` LIMIT 5;\n"
     ]
    }
   ],
   "execution_count": 10
  },
  {
   "metadata": {
    "ExecuteTime": {
     "end_time": "2024-08-30T03:00:07.263200Z",
     "start_time": "2024-08-30T03:00:07.260247Z"
    }
   },
   "cell_type": "code",
   "source": "print(service.sql_result)",
   "id": "d86227e84a30dac3",
   "outputs": [
    {
     "name": "stdout",
     "output_type": "stream",
     "text": [
      "[('S12_1099', '1968 Ford Mustang', Decimal('95.34'))]\n"
     ]
    }
   ],
   "execution_count": 3
  },
  {
   "metadata": {},
   "cell_type": "code",
   "outputs": [],
   "execution_count": null,
   "source": "",
   "id": "435af9af65e2f2d7"
  }
 ],
 "metadata": {
  "kernelspec": {
   "display_name": "Python 3",
   "language": "python",
   "name": "python3"
  },
  "language_info": {
   "codemirror_mode": {
    "name": "ipython",
    "version": 2
   },
   "file_extension": ".py",
   "mimetype": "text/x-python",
   "name": "python",
   "nbconvert_exporter": "python",
   "pygments_lexer": "ipython2",
   "version": "3.11.9"
  }
 },
 "nbformat": 4,
 "nbformat_minor": 5
}
